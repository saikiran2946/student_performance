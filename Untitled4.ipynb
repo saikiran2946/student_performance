{
 "cells": [
  {
   "cell_type": "code",
   "execution_count": 5,
   "id": "20d413cf-330a-4b3d-9e3a-dc0cdc239bc7",
   "metadata": {},
   "outputs": [],
   "source": [
    "import pandas as pd\n",
    "from sklearn.model_selection import train_test_split\n",
    "from sklearn.linear_model import LinearRegression\n",
    "from sklearn.metrics import mean_squared_error\n",
    "import pickle\n",
    "\n"
   ]
  },
  {
   "cell_type": "code",
   "execution_count": 8,
   "id": "90792506-18b7-47c4-829b-d73e4906f249",
   "metadata": {},
   "outputs": [],
   "source": [
    "# Load the data (assuming you're extracting it from the database or using CSV for demo purposes)\n",
    "data = pd.read_csv('student_data.csv')\n",
    "\n",
    "# Sample Data Columns: ['id', 'name', 'batch', 'gpa', 'core_courses_score', 'hackathon_participation', 'papers_published', 'teaching_assistance']\n",
    "\n",
    "# Features (X) and Target (y)\n",
    "X = data[['student_id','name','batch','gpa', 'core_course_score', 'hackathon_participation', 'paper_presentations', 'teacher_assistance','other_contributions']]\n",
    "y = data['overall_score']  # This will be our target variable which we will try to predict\n",
    "\n",
    "# Split data into training and testing sets\n",
    "X_train, X_test, y_train, y_test = train_test_split(X, y, test_size=0.2, random_state=42)\n"
   ]
  },
  {
   "cell_type": "code",
   "execution_count": 10,
   "id": "66fafd7a-480f-4be9-bc75-c5a4c72217a6",
   "metadata": {},
   "outputs": [
    {
     "name": "stdout",
     "output_type": "stream",
     "text": [
      "student_id                   int64\n",
      "name                        object\n",
      "batch                        int64\n",
      "gpa                        float64\n",
      "core_course_score          float64\n",
      "hackathon_participation      int64\n",
      "paper_presentations          int64\n",
      "teacher_assistance          object\n",
      "other_contributions         object\n",
      "dtype: object\n"
     ]
    }
   ],
   "source": [
    "# Check the data types of your columns\n",
    "print(X_train.dtypes)\n",
    "\n",
    "# If 'name' or other non-numeric columns are included, drop them\n",
    "X_train = X_train.select_dtypes(include=['float64', 'int64'])\n",
    "X_test = X_test.select_dtypes(include=['float64', 'int64'])\n"
   ]
  },
  {
   "cell_type": "code",
   "execution_count": 11,
   "id": "c95b5cfd-998b-430c-8f62-14b739b0a638",
   "metadata": {},
   "outputs": [],
   "source": [
    "# Example: Convert categorical values to numerical (assuming binary Yes/No columns)\n",
    "X_train['hackathon_participation'] = X_train['hackathon_participation'].apply(lambda x: 1 if x == 'Yes' else 0)\n",
    "X_test['hackathon_participation'] = X_test['hackathon_participation'].apply(lambda x: 1 if x == 'Yes' else 0)\n",
    "\n",
    "# You can do similar transformations for other categorical features\n"
   ]
  },
  {
   "cell_type": "code",
   "execution_count": 12,
   "id": "152eab9b-2a74-4003-8814-3f50f2e9e213",
   "metadata": {},
   "outputs": [
    {
     "name": "stdout",
     "output_type": "stream",
     "text": [
      "student_id                 0\n",
      "batch                      0\n",
      "gpa                        0\n",
      "core_course_score          0\n",
      "hackathon_participation    0\n",
      "paper_presentations        0\n",
      "dtype: int64\n"
     ]
    }
   ],
   "source": [
    "# Check for missing values and handle them\n",
    "print(X_train.isnull().sum())\n",
    "X_train.fillna(0, inplace=True)  # You can also choose a different strategy like mean or median\n",
    "X_test.fillna(0, inplace=True)\n"
   ]
  },
  {
   "cell_type": "code",
   "execution_count": 13,
   "id": "de486ef0-6bea-4c15-99cf-6b008ba04c8a",
   "metadata": {},
   "outputs": [
    {
     "name": "stdout",
     "output_type": "stream",
     "text": [
      "Mean Squared Error: 1.6564628570747175\n"
     ]
    }
   ],
   "source": [
    "# Now fit the model again\n",
    "model = LinearRegression()\n",
    "model.fit(X_train, y_train)\n",
    "\n",
    "# Test the model\n",
    "y_pred = model.predict(X_test)\n",
    "\n",
    "# Evaluate the model\n",
    "mse = mean_squared_error(y_test, y_pred)\n",
    "print(f'Mean Squared Error: {mse}')\n"
   ]
  },
  {
   "cell_type": "code",
   "execution_count": 14,
   "id": "66d47918-3628-4d37-92c6-fecf373e18ec",
   "metadata": {},
   "outputs": [],
   "source": [
    "# Save the model to a file for later use\n",
    "with open('student_ranking_model.pkl', 'wb') as f:\n",
    "    pickle.dump(model, f)\n"
   ]
  },
  {
   "cell_type": "code",
   "execution_count": null,
   "id": "c8b22038-8982-44f4-98aa-833c91457f07",
   "metadata": {},
   "outputs": [],
   "source": []
  }
 ],
 "metadata": {
  "kernelspec": {
   "display_name": "Python 3 (ipykernel)",
   "language": "python",
   "name": "python3"
  },
  "language_info": {
   "codemirror_mode": {
    "name": "ipython",
    "version": 3
   },
   "file_extension": ".py",
   "mimetype": "text/x-python",
   "name": "python",
   "nbconvert_exporter": "python",
   "pygments_lexer": "ipython3",
   "version": "3.12.4"
  }
 },
 "nbformat": 4,
 "nbformat_minor": 5
}
